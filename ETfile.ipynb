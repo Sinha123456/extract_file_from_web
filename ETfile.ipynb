{
  "nbformat": 4,
  "nbformat_minor": 0,
  "metadata": {
    "colab": {
      "name": "ETfile.ipynb",
      "provenance": [],
      "authorship_tag": "ABX9TyNqnNGd+bETE8OAKRvYW9B7",
      "include_colab_link": true
    },
    "kernelspec": {
      "name": "python3",
      "display_name": "Python 3"
    }
  },
  "cells": [
    {
      "cell_type": "markdown",
      "metadata": {
        "id": "view-in-github",
        "colab_type": "text"
      },
      "source": [
        "<a href=\"https://colab.research.google.com/github/Sinha123456/extract_file_from_web/blob/master/ETfile.ipynb\" target=\"_parent\"><img src=\"https://colab.research.google.com/assets/colab-badge.svg\" alt=\"Open In Colab\"/></a>"
      ]
    },
    {
      "cell_type": "code",
      "metadata": {
        "colab": {
          "base_uri": "https://localhost:8080/"
        },
        "id": "COCBdP_lZOpN",
        "outputId": "d165c5c1-1fb8-48c5-f8e5-d360ae53d969"
      },
      "source": [
        "from google.colab import drive\r\n",
        "drive.mount('/content/drive')"
      ],
      "execution_count": 1,
      "outputs": [
        {
          "output_type": "stream",
          "text": [
            "Mounted at /content/drive\n"
          ],
          "name": "stdout"
        }
      ]
    },
    {
      "cell_type": "code",
      "metadata": {
        "colab": {
          "base_uri": "https://localhost:8080/"
        },
        "id": "jWNXbBe3Z_RW",
        "outputId": "1416bcc9-8a22-4ef1-9f9c-86fd30ab1f6c"
      },
      "source": [
        "pip install wptools"
      ],
      "execution_count": 4,
      "outputs": [
        {
          "output_type": "stream",
          "text": [
            "Collecting wptools\n",
            "  Downloading https://files.pythonhosted.org/packages/e2/5c/0d8af5532e44477edeb3dac81d3a611ea75827a18b6b4068c3cc2188bfe5/wptools-0.4.17-py2.py3-none-any.whl\n",
            "Requirement already satisfied: lxml in /usr/local/lib/python3.6/dist-packages (from wptools) (4.2.6)\n",
            "Collecting pycurl\n",
            "\u001b[?25l  Downloading https://files.pythonhosted.org/packages/50/1a/35b1d8b8e4e23a234f1b17a8a40299fd550940b16866c9a1f2d47a04b969/pycurl-7.43.0.6.tar.gz (222kB)\n",
            "\u001b[K     |████████████████████████████████| 225kB 5.9MB/s \n",
            "\u001b[?25hCollecting html2text\n",
            "  Downloading https://files.pythonhosted.org/packages/ae/88/14655f727f66b3e3199f4467bafcc88283e6c31b562686bf606264e09181/html2text-2020.1.16-py3-none-any.whl\n",
            "Requirement already satisfied: certifi in /usr/local/lib/python3.6/dist-packages (from wptools) (2020.12.5)\n",
            "Building wheels for collected packages: pycurl\n",
            "  Building wheel for pycurl (setup.py) ... \u001b[?25l\u001b[?25hdone\n",
            "  Created wheel for pycurl: filename=pycurl-7.43.0.6-cp36-cp36m-linux_x86_64.whl size=284378 sha256=e4b0771eb3be543010255f149b593f659226bc7a24a7263dac220177e7fd3018\n",
            "  Stored in directory: /root/.cache/pip/wheels/d9/a1/7b/2894883fd5c69a3ba684a49d255466d1e924b3cf58cedc1ade\n",
            "Successfully built pycurl\n",
            "Installing collected packages: pycurl, html2text, wptools\n",
            "Successfully installed html2text-2020.1.16 pycurl-7.43.0.6 wptools-0.4.17\n"
          ],
          "name": "stdout"
        }
      ]
    },
    {
      "cell_type": "code",
      "metadata": {
        "colab": {
          "base_uri": "https://localhost:8080/"
        },
        "id": "zlrbkdqiZs7t",
        "outputId": "874565bd-e5a8-4558-b74f-d51819c42b90"
      },
      "source": [
        "import wptools\r\n",
        "#wptools.page('E.T.').get()\r\n",
        "page = wptools.page('E.T. the Extra-Terrestrial').get()"
      ],
      "execution_count": 8,
      "outputs": [
        {
          "output_type": "stream",
          "text": [
            "en.wikipedia.org (query) E.T. the Extra-Terrestrial\n",
            "en.wikipedia.org (query) E.T. the Extra-Terrestrial (&plcontinue=...\n",
            "en.wikipedia.org (parse) 73441\n",
            "www.wikidata.org (wikidata) Q11621\n",
            "www.wikidata.org (labels) Q471839|P7118|Q4376972|P3219|Q977919|P2...\n",
            "www.wikidata.org (labels) P344|P2704|P2638|P480|P915|P3129|P364|Q...\n",
            "www.wikidata.org (labels) P1411|Q237207|P2508|P5008|Q676094|P1040...\n",
            "www.wikidata.org (labels) P3650|Q1315008|Q102182612|Q823422|Q4886...\n",
            "www.wikidata.org (labels) P6262|Q1518105|Q41417|Q907311|P3077|P38...\n",
            "en.wikipedia.org (restbase) /page/summary/E.T._the_Extra-Terrestrial\n",
            "en.wikipedia.org (imageinfo) File:ET logo 3.svg|File:E t the extr...\n",
            "E.T. the Extra-Terrestrial (en) data\n",
            "{\n",
            "  WARNINGS: <dict(1)> extracts\n",
            "  aliases: <list(2)> E.T., ET\n",
            "  assessments: <dict(4)> United States, Film, Science Fiction, Lib...\n",
            "  claims: <dict(117)> P1562, P57, P272, P345, P31, P161, P373, P48...\n",
            "  description: 1982 film by Steven Spielberg\n",
            "  exhtml: <str(370)> <p><i><b>E.T. the Extra-Terrestrial</b></i> i...\n",
            "  exrest: <str(349)> E.T. the Extra-Terrestrial is a 1982 American...\n",
            "  extext: <str(1629)> _**E.T. the Extra-Terrestrial**_ is a 1982 A...\n",
            "  extract: <str(1729)> <p class=\"mw-empty-elt\"></p><p><i><b>E.T. t...\n",
            "  image: <list(4)> {'kind': 'parse-image', 'file': 'File:E t the e...\n",
            "  infobox: <dict(18)> name, image, caption, director, producers, w...\n",
            "  iwlinks: <list(6)> https://commons.wikimedia.org/wiki/Category:E...\n",
            "  label: E.T. the Extra-Terrestrial\n",
            "  labels: <dict(226)> Q471839, P7118, Q4376972, P3219, Q977919, P2...\n",
            "  length: 94,584\n",
            "  links: <list(559)> 12 Angry Men (1957 film), 12 Monkeys, 12 Year...\n",
            "  modified: <dict(2)> page, wikidata\n",
            "  pageid: 73441\n",
            "  parsetree: <str(116002)> <root><template><title>Redirect</title>...\n",
            "  random: Ulotrichopus pseudomarmoratus\n",
            "  redirects: <list(37)> {'pageid': 177061, 'ns': 0, 'title': 'E.T....\n",
            "  requests: <list(11)> query, query, parse, wikidata, labels, labe...\n",
            "  title: E.T._the_Extra-Terrestrial\n",
            "  url: https://en.wikipedia.org/wiki/E.T._the_Extra-Terrestrial\n",
            "  url_raw: <str(67)> https://en.wikipedia.org/wiki/E.T._the_Extra-...\n",
            "  watchers: 337\n",
            "  what: film\n",
            "  wikibase: Q11621\n",
            "  wikidata: <dict(117)> AllMovie title ID (P1562), director (P57),...\n",
            "  wikidata_pageid: 13150\n",
            "  wikidata_url: https://www.wikidata.org/wiki/Q11621\n",
            "  wikitext: <str(94255)> {{Redirect|E.T.|other uses|ET (disambigua...\n",
            "}\n"
          ],
          "name": "stderr"
        }
      ]
    },
    {
      "cell_type": "code",
      "metadata": {
        "colab": {
          "base_uri": "https://localhost:8080/"
        },
        "id": "r_3Gvn56aS1u",
        "outputId": "0c0dc59a-f0ce-4d83-d1d9-e7d9ddefbaa9"
      },
      "source": [
        "# Accessing the image attribute will return the images for this page, first attribute of the image.\r\n",
        "page.data['image'][0]"
      ],
      "execution_count": 12,
      "outputs": [
        {
          "output_type": "execute_result",
          "data": {
            "text/plain": [
              "{'descriptionshorturl': 'https://en.wikipedia.org/w/index.php?curid=7419503',\n",
              " 'descriptionurl': 'https://en.wikipedia.org/wiki/File:E_t_the_extra_terrestrial_ver3.jpg',\n",
              " 'file': 'File:E t the extra terrestrial ver3.jpg',\n",
              " 'height': 394,\n",
              " 'kind': 'parse-image',\n",
              " 'metadata': {'Assessments': {'hidden': '',\n",
              "   'source': 'commons-categories',\n",
              "   'value': ''},\n",
              "  'Attribution': {'hidden': '',\n",
              "   'source': 'commons-desc-page',\n",
              "   'value': 'Source'},\n",
              "  'Categories': {'hidden': '',\n",
              "   'source': 'commons-categories',\n",
              "   'value': 'All non-free media|E.T. the Extra-Terrestrial|Fair use images of movie posters|Files with no machine-readable author|Noindexed pages|Wikipedia non-free files for NFUR review|Wikipedia non-free files with valid backlink'},\n",
              "  'CommonsMetadataExtension': {'hidden': '',\n",
              "   'source': 'extension',\n",
              "   'value': 1.2},\n",
              "  'Copyrighted': {'hidden': '',\n",
              "   'source': 'commons-desc-page',\n",
              "   'value': 'True'},\n",
              "  'Credit': {'hidden': '',\n",
              "   'source': 'commons-desc-page',\n",
              "   'value': '<p>The poster art can or could be obtained from <a href=\"//en.wikipedia.org/wiki/John_Alvin\" title=\"John Alvin\">John Alvin</a>.\\n</p>'},\n",
              "  'DateTime': {'hidden': '',\n",
              "   'source': 'mediawiki-metadata',\n",
              "   'value': '2016-06-04 10:30:46'},\n",
              "  'ImageDescription': {'source': 'commons-desc-page',\n",
              "   'value': '<p>This is a poster for  <i>E.T. the Extra-Terrestrial</i>. <br>The poster art copyright is believed to belong to <a href=\"//en.wikipedia.org/wiki/John_Alvin\" title=\"John Alvin\">John Alvin</a>.\\n</p>'},\n",
              "  'LicenseShortName': {'hidden': '',\n",
              "   'source': 'commons-desc-page',\n",
              "   'value': 'Fair use'},\n",
              "  'LicenseUrl': {'hidden': '',\n",
              "   'source': 'commons-desc-page',\n",
              "   'value': '//en.wikipedia.org/wiki/File:E_t_the_extra_terrestrial_ver3.jpg'},\n",
              "  'NonFree': {'hidden': '', 'source': 'commons-desc-page', 'value': 'true'},\n",
              "  'ObjectName': {'hidden': '',\n",
              "   'source': 'mediawiki-metadata',\n",
              "   'value': 'E t the extra terrestrial ver3'},\n",
              "  'Restrictions': {'hidden': '', 'source': 'commons-desc-page', 'value': ''},\n",
              "  'UsageTerms': {'hidden': '',\n",
              "   'source': 'commons-desc-page',\n",
              "   'value': '<a href=\"//en.wikipedia.org/wiki/Wikipedia:Non-free_use_rationale_guideline\" title=\"Wikipedia:Non-free use rationale guideline\">Fair use</a> of copyrighted material in the context of <a href=\"//en.wikipedia.org/wiki/E.T._the_Extra-Terrestrial\" title=\"E.T. the Extra-Terrestrial\">E.T. the Extra-Terrestrial</a>'}},\n",
              " 'orig': 'E t the extra terrestrial ver3.jpg',\n",
              " 'size': 83073,\n",
              " 'timestamp': '2016-06-04T10:30:46Z',\n",
              " 'title': 'File:E t the extra terrestrial ver3.jpg',\n",
              " 'url': 'https://upload.wikimedia.org/wikipedia/en/6/66/E_t_the_extra_terrestrial_ver3.jpg',\n",
              " 'width': 253}"
            ]
          },
          "metadata": {
            "tags": []
          },
          "execution_count": 12
        }
      ]
    },
    {
      "cell_type": "code",
      "metadata": {
        "colab": {
          "base_uri": "https://localhost:8080/",
          "height": 36
        },
        "id": "plgGTmgfecj3",
        "outputId": "747766fa-37e1-462c-9472-f30e59f97390"
      },
      "source": [
        "page.data['infobox']['director']"
      ],
      "execution_count": 11,
      "outputs": [
        {
          "output_type": "execute_result",
          "data": {
            "application/vnd.google.colaboratory.intrinsic+json": {
              "type": "string"
            },
            "text/plain": [
              "'[[Steven Spielberg]]'"
            ]
          },
          "metadata": {
            "tags": []
          },
          "execution_count": 11
        }
      ]
    },
    {
      "cell_type": "code",
      "metadata": {
        "id": "Yl2hzDhhGQ3y"
      },
      "source": [
        "import requests #https://2.python-requests.org/en/latest/user/quickstart/#binary-response-content\r\n",
        "from PIL import Image #pillow library, Imaging Library. https://pillow.readthedocs.io/en/stable/\r\n",
        "from io import BytesIO\r\n",
        "url = 'https://en.wikipedia.org/wiki/E.T._the_Extra-Terrestrial'\r\n",
        "\r\n"
      ],
      "execution_count": 4,
      "outputs": []
    },
    {
      "cell_type": "code",
      "metadata": {
        "id": "X-x65d81eiO4"
      },
      "source": [
        ""
      ],
      "execution_count": null,
      "outputs": []
    }
  ]
}