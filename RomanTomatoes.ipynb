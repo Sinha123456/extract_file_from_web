{
  "nbformat": 4,
  "nbformat_minor": 0,
  "metadata": {
    "colab": {
      "name": "RomanTomatoes.ipynb",
      "provenance": [],
      "authorship_tag": "ABX9TyPl7+vvw/fko6dTR+FSJRIT",
      "include_colab_link": true
    },
    "kernelspec": {
      "name": "python3",
      "display_name": "Python 3"
    }
  },
  "cells": [
    {
      "cell_type": "markdown",
      "metadata": {
        "id": "view-in-github",
        "colab_type": "text"
      },
      "source": [
        "<a href=\"https://colab.research.google.com/github/Sinha123456/extract_file_from_web/blob/master/RomanTomatoes.ipynb\" target=\"_parent\"><img src=\"https://colab.research.google.com/assets/colab-badge.svg\" alt=\"Open In Colab\"/></a>"
      ]
    },
    {
      "cell_type": "code",
      "metadata": {
        "colab": {
          "base_uri": "https://localhost:8080/"
        },
        "id": "h5wk9HHb_Hyp",
        "outputId": "ff0c88ab-df45-4e23-88c0-3c42785b1eed"
      },
      "source": [
        "from google.colab import drive\r\n",
        "drive.mount('/content/drive')"
      ],
      "execution_count": 1,
      "outputs": [
        {
          "output_type": "stream",
          "text": [
            "Mounted at /content/drive\n"
          ],
          "name": "stdout"
        }
      ]
    },
    {
      "cell_type": "code",
      "metadata": {
        "id": "mV1yYTHF_Xad"
      },
      "source": [
        "from bs4 import BeautifulSoup\r\n",
        "import os\r\n",
        "import pandas as pd"
      ],
      "execution_count": 2,
      "outputs": []
    },
    {
      "cell_type": "code",
      "metadata": {
        "colab": {
          "base_uri": "https://localhost:8080/",
          "height": 206
        },
        "id": "8w3fUZSV_qJj",
        "outputId": "327d281d-985b-4340-bb29-6c950c3d138c"
      },
      "source": [
        "df_list = []\r\n",
        "folder = '/content/drive/MyDrive/rt_html'\r\n",
        "for movie_html in os.listdir(folder):\r\n",
        "    with open(os.path.join(folder, movie_html)) as file:\r\n",
        "        soup = BeautifulSoup(file, 'lxml')# Your code here\r\n",
        "        title = soup.find('title').contents[0][:-len(' - Rotten Tomatoes')]\r\n",
        "       \r\n",
        "        audience_score = soup.find('div', class_='audience-score meter').find('span').contents[0][:-1]\r\n",
        "        \r\n",
        "        \r\n",
        "        number_of_audience_ratings = soup.find('div', class_='audience-info hidden-xs superPageFontColor')\r\n",
        "        number_of_audience_ratings = number_of_audience_ratings.find_all('div')[1].contents[2].strip().replace(',', '')\r\n",
        "        df_list.append({'title': title,\r\n",
        "                        'audience_score': int(audience_score),\r\n",
        "                        'number_of_audience_ratings': int(number_of_audience_ratings)})\r\n",
        "\r\n",
        "df = pd.DataFrame(df_list, columns = ['title', 'audience_score', 'number_of_audience_ratings'])\r\n",
        "df.head()\r\n",
        "       \r\n",
        "        "
      ],
      "execution_count": 3,
      "outputs": [
        {
          "output_type": "execute_result",
          "data": {
            "text/html": [
              "<div>\n",
              "<style scoped>\n",
              "    .dataframe tbody tr th:only-of-type {\n",
              "        vertical-align: middle;\n",
              "    }\n",
              "\n",
              "    .dataframe tbody tr th {\n",
              "        vertical-align: top;\n",
              "    }\n",
              "\n",
              "    .dataframe thead th {\n",
              "        text-align: right;\n",
              "    }\n",
              "</style>\n",
              "<table border=\"1\" class=\"dataframe\">\n",
              "  <thead>\n",
              "    <tr style=\"text-align: right;\">\n",
              "      <th></th>\n",
              "      <th>title</th>\n",
              "      <th>audience_score</th>\n",
              "      <th>number_of_audience_ratings</th>\n",
              "    </tr>\n",
              "  </thead>\n",
              "  <tbody>\n",
              "    <tr>\n",
              "      <th>0</th>\n",
              "      <td>On the Waterfront (1954)</td>\n",
              "      <td>95</td>\n",
              "      <td>51664</td>\n",
              "    </tr>\n",
              "    <tr>\n",
              "      <th>1</th>\n",
              "      <td>A Hard Day's Night (1964)</td>\n",
              "      <td>89</td>\n",
              "      <td>50067</td>\n",
              "    </tr>\n",
              "    <tr>\n",
              "      <th>2</th>\n",
              "      <td>Logan (2017)</td>\n",
              "      <td>91</td>\n",
              "      <td>86540</td>\n",
              "    </tr>\n",
              "    <tr>\n",
              "      <th>3</th>\n",
              "      <td>Rosemary's Baby (1968)</td>\n",
              "      <td>87</td>\n",
              "      <td>72669</td>\n",
              "    </tr>\n",
              "    <tr>\n",
              "      <th>4</th>\n",
              "      <td>Spotlight (2015)</td>\n",
              "      <td>93</td>\n",
              "      <td>68142</td>\n",
              "    </tr>\n",
              "  </tbody>\n",
              "</table>\n",
              "</div>"
            ],
            "text/plain": [
              "                       title  audience_score  number_of_audience_ratings\n",
              "0   On the Waterfront (1954)              95                       51664\n",
              "1  A Hard Day's Night (1964)              89                       50067\n",
              "2               Logan (2017)              91                       86540\n",
              "3     Rosemary's Baby (1968)              87                       72669\n",
              "4           Spotlight (2015)              93                       68142"
            ]
          },
          "metadata": {
            "tags": []
          },
          "execution_count": 3
        }
      ]
    }
  ]
}