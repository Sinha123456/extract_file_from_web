{
  "nbformat": 4,
  "nbformat_minor": 0,
  "metadata": {
    "colab": {
      "name": "ebert_review.ipynb",
      "provenance": [],
      "authorship_tag": "ABX9TyO2S1948QuQbc/c8N00vGgF",
      "include_colab_link": true
    },
    "kernelspec": {
      "name": "python3",
      "display_name": "Python 3"
    }
  },
  "cells": [
    {
      "cell_type": "markdown",
      "metadata": {
        "id": "view-in-github",
        "colab_type": "text"
      },
      "source": [
        "<a href=\"https://colab.research.google.com/github/Sinha123456/extract_file_from_web/blob/master/ebert_review.ipynb\" target=\"_parent\"><img src=\"https://colab.research.google.com/assets/colab-badge.svg\" alt=\"Open In Colab\"/></a>"
      ]
    },
    {
      "cell_type": "code",
      "metadata": {
        "colab": {
          "base_uri": "https://localhost:8080/"
        },
        "id": "ADuxMxItrMMn",
        "outputId": "43fe4c64-ac6a-4444-d914-bd6c370c1e2e"
      },
      "source": [
        "from google.colab import drive\r\n",
        "drive.mount('/content/drive')"
      ],
      "execution_count": 2,
      "outputs": [
        {
          "output_type": "stream",
          "text": [
            "Mounted at /content/drive\n"
          ],
          "name": "stdout"
        }
      ]
    },
    {
      "cell_type": "code",
      "metadata": {
        "id": "WkvYRe6CrkSf"
      },
      "source": [
        "import os\r\n",
        "import glob\r\n",
        "import pandas as pd"
      ],
      "execution_count": 3,
      "outputs": []
    },
    {
      "cell_type": "code",
      "metadata": {
        "id": "Hg9hL8J7tnF4"
      },
      "source": [
        "\r\n",
        "df_list = []\r\n",
        "for ebert_review in glob.glob('/content/drive/MyDrive/ebert_reviews/*.txt'):\r\n",
        "  with open(ebert_review, encoding='utf-8') as file:\r\n",
        "    title = file.readline()[:-1]\r\n",
        "    review_url = file.readline()[:-1]\r\n",
        "    review_text = file.read()\r\n",
        "    df_list.append({'title': title, 'review_url': review_url, 'review_txt': review_text})\r\n",
        "df = pd.DataFrame(df_list, columns= ['title', 'review_url', 'review_txt' ])"
      ],
      "execution_count": 9,
      "outputs": []
    },
    {
      "cell_type": "code",
      "metadata": {
        "colab": {
          "base_uri": "https://localhost:8080/",
          "height": 206
        },
        "id": "XZsyOpw9rbCq",
        "outputId": "c380fc15-3402-446d-cd7d-df5819c2becb"
      },
      "source": [
        "df.head()"
      ],
      "execution_count": 11,
      "outputs": [
        {
          "output_type": "execute_result",
          "data": {
            "text/html": [
              "<div>\n",
              "<style scoped>\n",
              "    .dataframe tbody tr th:only-of-type {\n",
              "        vertical-align: middle;\n",
              "    }\n",
              "\n",
              "    .dataframe tbody tr th {\n",
              "        vertical-align: top;\n",
              "    }\n",
              "\n",
              "    .dataframe thead th {\n",
              "        text-align: right;\n",
              "    }\n",
              "</style>\n",
              "<table border=\"1\" class=\"dataframe\">\n",
              "  <thead>\n",
              "    <tr style=\"text-align: right;\">\n",
              "      <th></th>\n",
              "      <th>title</th>\n",
              "      <th>review_url</th>\n",
              "      <th>review_txt</th>\n",
              "    </tr>\n",
              "  </thead>\n",
              "  <tbody>\n",
              "    <tr>\n",
              "      <th>0</th>\n",
              "      <td>Touch of Evil (1958)</td>\n",
              "      <td>http://www.rogerebert.com/reviews/great-movie-...</td>\n",
              "      <td>Come on, read my future for me.You haven't got...</td>\n",
              "    </tr>\n",
              "    <tr>\n",
              "      <th>1</th>\n",
              "      <td>The Dark Knight (2008)</td>\n",
              "      <td>http://www.rogerebert.com/reviews/the-dark-kni...</td>\n",
              "      <td>“Batman” isn’t a comic book anymore. Christoph...</td>\n",
              "    </tr>\n",
              "    <tr>\n",
              "      <th>2</th>\n",
              "      <td>Logan (2017)</td>\n",
              "      <td>http://www.rogerebert.com/reviews/logan-2017</td>\n",
              "      <td>Is “Logan” more powerful because of what the s...</td>\n",
              "    </tr>\n",
              "    <tr>\n",
              "      <th>3</th>\n",
              "      <td>Seven Samurai (Shichinin no Samurai) (1956)</td>\n",
              "      <td>http://www.rogerebert.com/reviews/great-movie-...</td>\n",
              "      <td>Akira Kurosawa's \"Seven Samurai\" (1954) is not...</td>\n",
              "    </tr>\n",
              "    <tr>\n",
              "      <th>4</th>\n",
              "      <td>Up (2009)</td>\n",
              "      <td>http://www.rogerebert.com/reviews/up-2009</td>\n",
              "      <td>\"Up\" is a wonderful film, with characters who ...</td>\n",
              "    </tr>\n",
              "  </tbody>\n",
              "</table>\n",
              "</div>"
            ],
            "text/plain": [
              "                                         title  ...                                         review_txt\n",
              "0                         Touch of Evil (1958)  ...  Come on, read my future for me.You haven't got...\n",
              "1                       The Dark Knight (2008)  ...  “Batman” isn’t a comic book anymore. Christoph...\n",
              "2                                 Logan (2017)  ...  Is “Logan” more powerful because of what the s...\n",
              "3  Seven Samurai (Shichinin no Samurai) (1956)  ...  Akira Kurosawa's \"Seven Samurai\" (1954) is not...\n",
              "4                                    Up (2009)  ...  \"Up\" is a wonderful film, with characters who ...\n",
              "\n",
              "[5 rows x 3 columns]"
            ]
          },
          "metadata": {
            "tags": []
          },
          "execution_count": 11
        }
      ]
    },
    {
      "cell_type": "code",
      "metadata": {
        "id": "19GsdM5AzFdD"
      },
      "source": [
        ""
      ],
      "execution_count": null,
      "outputs": []
    }
  ]
}